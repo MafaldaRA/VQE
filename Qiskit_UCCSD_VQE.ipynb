{
  "nbformat": 4,
  "nbformat_minor": 0,
  "metadata": {
    "colab": {
      "name": "Qiskit_UCCSD_VQE.ipynb",
      "provenance": [],
      "collapsed_sections": [],
      "toc_visible": true
    },
    "kernelspec": {
      "display_name": "Python 3",
      "name": "python3"
    },
    "language_info": {
      "name": "python"
    }
  },
  "cells": [
    {
      "cell_type": "code",
      "metadata": {
        "colab": {
          "base_uri": "https://localhost:8080/"
        },
        "id": "P2Ufk0eZN0Lc",
        "outputId": "ed8dcf14-e019-4507-b574-32e3713138b9"
      },
      "source": [
        "!pip install qiskit[visualization]\n",
        "!pip install pyscf"
      ],
      "execution_count": 1,
      "outputs": [
        {
          "output_type": "stream",
          "text": [
            "Collecting qiskit[visualization]\n",
            "  Downloading https://files.pythonhosted.org/packages/6f/61/cb7506e17a2566dc8a31a3e1924d91ac0bdd8ff07c71ec698c06647b6306/qiskit-0.26.2.tar.gz\n",
            "Collecting qiskit-terra==0.17.4\n",
            "\u001b[?25l  Downloading https://files.pythonhosted.org/packages/b3/0c/3c7a8dd451dae0907263e9de9e3e34909e15e18c88a589b44581972c8511/qiskit_terra-0.17.4-cp37-cp37m-manylinux2010_x86_64.whl (6.0MB)\n",
            "\u001b[K     |████████████████████████████████| 6.0MB 28.3MB/s \n",
            "\u001b[?25hCollecting qiskit-aer==0.8.2\n",
            "\u001b[?25l  Downloading https://files.pythonhosted.org/packages/c2/d2/6ff15c370b5465b32529b528bf3f4ce1e01f74498be16203aa1c04b67022/qiskit_aer-0.8.2-cp37-cp37m-manylinux2010_x86_64.whl (18.0MB)\n",
            "\u001b[K     |████████████████████████████████| 18.0MB 222kB/s \n",
            "\u001b[?25hCollecting qiskit-ibmq-provider==0.13.1\n",
            "\u001b[?25l  Downloading https://files.pythonhosted.org/packages/be/99/74bbb901f88603a7d850d4889abc06d81ba702e4227151f4a5b66f2631fe/qiskit_ibmq_provider-0.13.1-py3-none-any.whl (228kB)\n",
            "\u001b[K     |████████████████████████████████| 235kB 46.6MB/s \n",
            "\u001b[?25hCollecting qiskit-ignis==0.6.0\n",
            "\u001b[?25l  Downloading https://files.pythonhosted.org/packages/54/be/a13c828e457e09d979667a61bddbd8c7246aafa94e2501b6a9154429cbea/qiskit_ignis-0.6.0-py3-none-any.whl (207kB)\n",
            "\u001b[K     |████████████████████████████████| 215kB 43.9MB/s \n",
            "\u001b[?25hCollecting qiskit-aqua==0.9.1\n",
            "\u001b[?25l  Downloading https://files.pythonhosted.org/packages/88/79/392c57b978decbb24b902344b536af52c40a751aed0ebbaefa8bc2964cb5/qiskit_aqua-0.9.1-py3-none-any.whl (2.1MB)\n",
            "\u001b[K     |████████████████████████████████| 2.1MB 40.7MB/s \n",
            "\u001b[?25hRequirement already satisfied: matplotlib>=2.1 in /usr/local/lib/python3.7/dist-packages (from qiskit[visualization]) (3.2.2)\n",
            "Requirement already satisfied: ipywidgets>=7.3.0 in /usr/local/lib/python3.7/dist-packages (from qiskit[visualization]) (7.6.3)\n",
            "Requirement already satisfied: pydot in /usr/local/lib/python3.7/dist-packages (from qiskit[visualization]) (1.3.0)\n",
            "Requirement already satisfied: pillow>=4.2.1 in /usr/local/lib/python3.7/dist-packages (from qiskit[visualization]) (7.1.2)\n",
            "Collecting pylatexenc>=1.4\n",
            "\u001b[?25l  Downloading https://files.pythonhosted.org/packages/5d/ab/34ec41718af73c00119d0351b7a2531d2ebddb51833a36448fc7b862be60/pylatexenc-2.10.tar.gz (162kB)\n",
            "\u001b[K     |████████████████████████████████| 163kB 49.7MB/s \n",
            "\u001b[?25hRequirement already satisfied: seaborn>=0.9.0 in /usr/local/lib/python3.7/dist-packages (from qiskit[visualization]) (0.11.1)\n",
            "Requirement already satisfied: pygments>=2.4 in /usr/local/lib/python3.7/dist-packages (from qiskit[visualization]) (2.6.1)\n",
            "Collecting retworkx>=0.8.0\n",
            "\u001b[?25l  Downloading https://files.pythonhosted.org/packages/9e/cd/70d436f170aa1ead2ac9e4c19c8838633355d48b530f09455eab0af2f98e/retworkx-0.9.0-cp37-cp37m-manylinux_2_5_x86_64.manylinux1_x86_64.manylinux_2_12_x86_64.manylinux2010_x86_64.whl (1.4MB)\n",
            "\u001b[K     |████████████████████████████████| 1.5MB 37.4MB/s \n",
            "\u001b[?25hRequirement already satisfied: dill>=0.3 in /usr/local/lib/python3.7/dist-packages (from qiskit-terra==0.17.4->qiskit[visualization]) (0.3.3)\n",
            "Collecting fastjsonschema>=2.10\n",
            "  Downloading https://files.pythonhosted.org/packages/d1/fb/ea090e917b18320f79be31d754bbe496b715175e865603cfce1eaed2e774/fastjsonschema-2.15.1-py3-none-any.whl\n",
            "Requirement already satisfied: psutil>=5 in /usr/local/lib/python3.7/dist-packages (from qiskit-terra==0.17.4->qiskit[visualization]) (5.4.8)\n",
            "Requirement already satisfied: sympy>=1.3 in /usr/local/lib/python3.7/dist-packages (from qiskit-terra==0.17.4->qiskit[visualization]) (1.7.1)\n",
            "Collecting python-constraint>=1.4\n",
            "  Downloading https://files.pythonhosted.org/packages/37/8b/5f1bc2734ca611943e1d6733ee244238679f6410a10cd45ede55a61a8402/python-constraint-1.4.0.tar.bz2\n",
            "Requirement already satisfied: jsonschema>=2.6 in /usr/local/lib/python3.7/dist-packages (from qiskit-terra==0.17.4->qiskit[visualization]) (2.6.0)\n",
            "Requirement already satisfied: numpy>=1.17 in /usr/local/lib/python3.7/dist-packages (from qiskit-terra==0.17.4->qiskit[visualization]) (1.19.5)\n",
            "Collecting ply>=3.10\n",
            "\u001b[?25l  Downloading https://files.pythonhosted.org/packages/a3/58/35da89ee790598a0700ea49b2a66594140f44dec458c07e8e3d4979137fc/ply-3.11-py2.py3-none-any.whl (49kB)\n",
            "\u001b[K     |████████████████████████████████| 51kB 6.0MB/s \n",
            "\u001b[?25hRequirement already satisfied: scipy>=1.4 in /usr/local/lib/python3.7/dist-packages (from qiskit-terra==0.17.4->qiskit[visualization]) (1.4.1)\n",
            "Requirement already satisfied: python-dateutil>=2.8.0 in /usr/local/lib/python3.7/dist-packages (from qiskit-terra==0.17.4->qiskit[visualization]) (2.8.1)\n",
            "Collecting pybind11>=2.6\n",
            "\u001b[?25l  Downloading https://files.pythonhosted.org/packages/8d/43/7339dbabbc2793718d59703aace4166f53c29ee1c202f6ff5bf8a26c4d91/pybind11-2.6.2-py2.py3-none-any.whl (191kB)\n",
            "\u001b[K     |████████████████████████████████| 194kB 38.9MB/s \n",
            "\u001b[?25hRequirement already satisfied: urllib3>=1.21.1 in /usr/local/lib/python3.7/dist-packages (from qiskit-ibmq-provider==0.13.1->qiskit[visualization]) (1.24.3)\n",
            "Collecting websockets>=8\n",
            "\u001b[?25l  Downloading https://files.pythonhosted.org/packages/84/64/78c2b3fe37730b30dca3c93d1f7f4a4286767f86e7c04cf3571b39bc2fb7/websockets-9.1-cp37-cp37m-manylinux2010_x86_64.whl (103kB)\n",
            "\u001b[K     |████████████████████████████████| 112kB 39.2MB/s \n",
            "\u001b[?25hRequirement already satisfied: requests>=2.19 in /usr/local/lib/python3.7/dist-packages (from qiskit-ibmq-provider==0.13.1->qiskit[visualization]) (2.23.0)\n",
            "Requirement already satisfied: nest-asyncio!=1.1.0,>=1.0.0 in /usr/local/lib/python3.7/dist-packages (from qiskit-ibmq-provider==0.13.1->qiskit[visualization]) (1.5.1)\n",
            "Collecting requests-ntlm>=1.1.0\n",
            "  Downloading https://files.pythonhosted.org/packages/03/4b/8b9a1afde8072c4d5710d9fa91433d504325821b038e00237dc8d6d833dc/requests_ntlm-1.1.0-py2.py3-none-any.whl\n",
            "Requirement already satisfied: setuptools>=40.1.0 in /usr/local/lib/python3.7/dist-packages (from qiskit-ignis==0.6.0->qiskit[visualization]) (57.0.0)\n",
            "Requirement already satisfied: scikit-learn<=0.24.1,>=0.20.0 in /usr/local/lib/python3.7/dist-packages (from qiskit-aqua==0.9.1->qiskit[visualization]) (0.22.2.post1)\n",
            "Collecting docplex<=2.20.204; sys_platform != \"darwin\"\n",
            "\u001b[?25l  Downloading https://files.pythonhosted.org/packages/87/99/6f7c219b39fd58c84688ad0713eb932bfcf6be81fc74519e43ea9c915b56/docplex-2.20.204.tar.gz (611kB)\n",
            "\u001b[K     |████████████████████████████████| 614kB 32.5MB/s \n",
            "\u001b[?25hRequirement already satisfied: pandas<=1.2.3 in /usr/local/lib/python3.7/dist-packages (from qiskit-aqua==0.9.1->qiskit[visualization]) (1.1.5)\n",
            "Requirement already satisfied: fastdtw<=0.3.4 in /usr/local/lib/python3.7/dist-packages (from qiskit-aqua==0.9.1->qiskit[visualization]) (0.3.4)\n",
            "Collecting quandl<=3.6.0\n",
            "  Downloading https://files.pythonhosted.org/packages/c2/58/9f0e69d836045e3865d263e9ed49f42b23a58526fdabb30f74c430baee3f/Quandl-3.6.0-py2.py3-none-any.whl\n",
            "Collecting yfinance<=0.1.55\n",
            "  Downloading https://files.pythonhosted.org/packages/7a/e8/b9d7104d3a4bf39924799067592d9e59119fcfc900a425a12e80a3123ec8/yfinance-0.1.55.tar.gz\n",
            "Requirement already satisfied: h5py<=3.1.0 in /usr/local/lib/python3.7/dist-packages (from qiskit-aqua==0.9.1->qiskit[visualization]) (3.1.0)\n",
            "Collecting dlx<=1.0.4\n",
            "  Downloading https://files.pythonhosted.org/packages/54/c0/b8fb5bb727e983b6f5251433ef941b48f38c65bb0bd6ec509e9185bcd406/dlx-1.0.4.tar.gz\n",
            "Requirement already satisfied: cycler>=0.10 in /usr/local/lib/python3.7/dist-packages (from matplotlib>=2.1->qiskit[visualization]) (0.10.0)\n",
            "Requirement already satisfied: kiwisolver>=1.0.1 in /usr/local/lib/python3.7/dist-packages (from matplotlib>=2.1->qiskit[visualization]) (1.3.1)\n",
            "Requirement already satisfied: pyparsing!=2.0.4,!=2.1.2,!=2.1.6,>=2.0.1 in /usr/local/lib/python3.7/dist-packages (from matplotlib>=2.1->qiskit[visualization]) (2.4.7)\n",
            "Requirement already satisfied: ipython>=4.0.0; python_version >= \"3.3\" in /usr/local/lib/python3.7/dist-packages (from ipywidgets>=7.3.0->qiskit[visualization]) (5.5.0)\n",
            "Requirement already satisfied: ipykernel>=4.5.1 in /usr/local/lib/python3.7/dist-packages (from ipywidgets>=7.3.0->qiskit[visualization]) (4.10.1)\n",
            "Requirement already satisfied: nbformat>=4.2.0 in /usr/local/lib/python3.7/dist-packages (from ipywidgets>=7.3.0->qiskit[visualization]) (5.1.3)\n",
            "Requirement already satisfied: widgetsnbextension~=3.5.0 in /usr/local/lib/python3.7/dist-packages (from ipywidgets>=7.3.0->qiskit[visualization]) (3.5.1)\n",
            "Requirement already satisfied: traitlets>=4.3.1 in /usr/local/lib/python3.7/dist-packages (from ipywidgets>=7.3.0->qiskit[visualization]) (5.0.5)\n",
            "Requirement already satisfied: jupyterlab-widgets>=1.0.0; python_version >= \"3.6\" in /usr/local/lib/python3.7/dist-packages (from ipywidgets>=7.3.0->qiskit[visualization]) (1.0.0)\n",
            "Requirement already satisfied: mpmath>=0.19 in /usr/local/lib/python3.7/dist-packages (from sympy>=1.3->qiskit-terra==0.17.4->qiskit[visualization]) (1.2.1)\n",
            "Requirement already satisfied: six>=1.5 in /usr/local/lib/python3.7/dist-packages (from python-dateutil>=2.8.0->qiskit-terra==0.17.4->qiskit[visualization]) (1.15.0)\n",
            "Requirement already satisfied: certifi>=2017.4.17 in /usr/local/lib/python3.7/dist-packages (from requests>=2.19->qiskit-ibmq-provider==0.13.1->qiskit[visualization]) (2020.12.5)\n",
            "Requirement already satisfied: chardet<4,>=3.0.2 in /usr/local/lib/python3.7/dist-packages (from requests>=2.19->qiskit-ibmq-provider==0.13.1->qiskit[visualization]) (3.0.4)\n",
            "Requirement already satisfied: idna<3,>=2.5 in /usr/local/lib/python3.7/dist-packages (from requests>=2.19->qiskit-ibmq-provider==0.13.1->qiskit[visualization]) (2.10)\n",
            "Collecting cryptography>=1.3\n",
            "\u001b[?25l  Downloading https://files.pythonhosted.org/packages/b2/26/7af637e6a7e87258b963f1731c5982fb31cd507f0d90d91836e446955d02/cryptography-3.4.7-cp36-abi3-manylinux2014_x86_64.whl (3.2MB)\n",
            "\u001b[K     |████████████████████████████████| 3.2MB 36.3MB/s \n",
            "\u001b[?25hCollecting ntlm-auth>=1.0.2\n",
            "  Downloading https://files.pythonhosted.org/packages/ff/84/97c550164b54942b0e908c31ef09d9469f3ba4cd7332a671e2125732f63b/ntlm_auth-1.5.0-py2.py3-none-any.whl\n",
            "Requirement already satisfied: joblib>=0.11 in /usr/local/lib/python3.7/dist-packages (from scikit-learn<=0.24.1,>=0.20.0->qiskit-aqua==0.9.1->qiskit[visualization]) (1.0.1)\n",
            "Requirement already satisfied: pytz>=2017.2 in /usr/local/lib/python3.7/dist-packages (from pandas<=1.2.3->qiskit-aqua==0.9.1->qiskit[visualization]) (2018.9)\n",
            "Collecting inflection>=0.3.1\n",
            "  Downloading https://files.pythonhosted.org/packages/59/91/aa6bde563e0085a02a435aa99b49ef75b0a4b062635e606dab23ce18d720/inflection-0.5.1-py2.py3-none-any.whl\n",
            "Requirement already satisfied: more-itertools in /usr/local/lib/python3.7/dist-packages (from quandl<=3.6.0->qiskit-aqua==0.9.1->qiskit[visualization]) (8.7.0)\n",
            "Requirement already satisfied: multitasking>=0.0.7 in /usr/local/lib/python3.7/dist-packages (from yfinance<=0.1.55->qiskit-aqua==0.9.1->qiskit[visualization]) (0.0.9)\n",
            "Collecting lxml>=4.5.1\n",
            "\u001b[?25l  Downloading https://files.pythonhosted.org/packages/30/c0/d0526314971fc661b083ab135747dc68446a3022686da8c16d25fcf6ef07/lxml-4.6.3-cp37-cp37m-manylinux2014_x86_64.whl (6.3MB)\n",
            "\u001b[K     |████████████████████████████████| 6.3MB 30.0MB/s \n",
            "\u001b[?25hRequirement already satisfied: cached-property; python_version < \"3.8\" in /usr/local/lib/python3.7/dist-packages (from h5py<=3.1.0->qiskit-aqua==0.9.1->qiskit[visualization]) (1.5.2)\n",
            "Requirement already satisfied: simplegeneric>0.8 in /usr/local/lib/python3.7/dist-packages (from ipython>=4.0.0; python_version >= \"3.3\"->ipywidgets>=7.3.0->qiskit[visualization]) (0.8.1)\n",
            "Requirement already satisfied: pickleshare in /usr/local/lib/python3.7/dist-packages (from ipython>=4.0.0; python_version >= \"3.3\"->ipywidgets>=7.3.0->qiskit[visualization]) (0.7.5)\n",
            "Requirement already satisfied: decorator in /usr/local/lib/python3.7/dist-packages (from ipython>=4.0.0; python_version >= \"3.3\"->ipywidgets>=7.3.0->qiskit[visualization]) (4.4.2)\n",
            "Requirement already satisfied: prompt-toolkit<2.0.0,>=1.0.4 in /usr/local/lib/python3.7/dist-packages (from ipython>=4.0.0; python_version >= \"3.3\"->ipywidgets>=7.3.0->qiskit[visualization]) (1.0.18)\n",
            "Requirement already satisfied: pexpect; sys_platform != \"win32\" in /usr/local/lib/python3.7/dist-packages (from ipython>=4.0.0; python_version >= \"3.3\"->ipywidgets>=7.3.0->qiskit[visualization]) (4.8.0)\n",
            "Requirement already satisfied: tornado>=4.0 in /usr/local/lib/python3.7/dist-packages (from ipykernel>=4.5.1->ipywidgets>=7.3.0->qiskit[visualization]) (5.1.1)\n",
            "Requirement already satisfied: jupyter-client in /usr/local/lib/python3.7/dist-packages (from ipykernel>=4.5.1->ipywidgets>=7.3.0->qiskit[visualization]) (5.3.5)\n",
            "Requirement already satisfied: ipython-genutils in /usr/local/lib/python3.7/dist-packages (from nbformat>=4.2.0->ipywidgets>=7.3.0->qiskit[visualization]) (0.2.0)\n",
            "Requirement already satisfied: jupyter-core in /usr/local/lib/python3.7/dist-packages (from nbformat>=4.2.0->ipywidgets>=7.3.0->qiskit[visualization]) (4.7.1)\n",
            "Requirement already satisfied: notebook>=4.4.1 in /usr/local/lib/python3.7/dist-packages (from widgetsnbextension~=3.5.0->ipywidgets>=7.3.0->qiskit[visualization]) (5.3.1)\n",
            "Requirement already satisfied: cffi>=1.12 in /usr/local/lib/python3.7/dist-packages (from cryptography>=1.3->requests-ntlm>=1.1.0->qiskit-ibmq-provider==0.13.1->qiskit[visualization]) (1.14.5)\n",
            "Requirement already satisfied: wcwidth in /usr/local/lib/python3.7/dist-packages (from prompt-toolkit<2.0.0,>=1.0.4->ipython>=4.0.0; python_version >= \"3.3\"->ipywidgets>=7.3.0->qiskit[visualization]) (0.2.5)\n",
            "Requirement already satisfied: ptyprocess>=0.5 in /usr/local/lib/python3.7/dist-packages (from pexpect; sys_platform != \"win32\"->ipython>=4.0.0; python_version >= \"3.3\"->ipywidgets>=7.3.0->qiskit[visualization]) (0.7.0)\n",
            "Requirement already satisfied: pyzmq>=13 in /usr/local/lib/python3.7/dist-packages (from jupyter-client->ipykernel>=4.5.1->ipywidgets>=7.3.0->qiskit[visualization]) (22.0.3)\n",
            "Requirement already satisfied: Send2Trash in /usr/local/lib/python3.7/dist-packages (from notebook>=4.4.1->widgetsnbextension~=3.5.0->ipywidgets>=7.3.0->qiskit[visualization]) (1.5.0)\n",
            "Requirement already satisfied: terminado>=0.8.1 in /usr/local/lib/python3.7/dist-packages (from notebook>=4.4.1->widgetsnbextension~=3.5.0->ipywidgets>=7.3.0->qiskit[visualization]) (0.10.0)\n",
            "Requirement already satisfied: jinja2 in /usr/local/lib/python3.7/dist-packages (from notebook>=4.4.1->widgetsnbextension~=3.5.0->ipywidgets>=7.3.0->qiskit[visualization]) (2.11.3)\n",
            "Requirement already satisfied: nbconvert in /usr/local/lib/python3.7/dist-packages (from notebook>=4.4.1->widgetsnbextension~=3.5.0->ipywidgets>=7.3.0->qiskit[visualization]) (5.6.1)\n",
            "Requirement already satisfied: pycparser in /usr/local/lib/python3.7/dist-packages (from cffi>=1.12->cryptography>=1.3->requests-ntlm>=1.1.0->qiskit-ibmq-provider==0.13.1->qiskit[visualization]) (2.20)\n",
            "Requirement already satisfied: MarkupSafe>=0.23 in /usr/local/lib/python3.7/dist-packages (from jinja2->notebook>=4.4.1->widgetsnbextension~=3.5.0->ipywidgets>=7.3.0->qiskit[visualization]) (2.0.1)\n",
            "Requirement already satisfied: testpath in /usr/local/lib/python3.7/dist-packages (from nbconvert->notebook>=4.4.1->widgetsnbextension~=3.5.0->ipywidgets>=7.3.0->qiskit[visualization]) (0.5.0)\n",
            "Requirement already satisfied: entrypoints>=0.2.2 in /usr/local/lib/python3.7/dist-packages (from nbconvert->notebook>=4.4.1->widgetsnbextension~=3.5.0->ipywidgets>=7.3.0->qiskit[visualization]) (0.3)\n",
            "Requirement already satisfied: pandocfilters>=1.4.1 in /usr/local/lib/python3.7/dist-packages (from nbconvert->notebook>=4.4.1->widgetsnbextension~=3.5.0->ipywidgets>=7.3.0->qiskit[visualization]) (1.4.3)\n",
            "Requirement already satisfied: defusedxml in /usr/local/lib/python3.7/dist-packages (from nbconvert->notebook>=4.4.1->widgetsnbextension~=3.5.0->ipywidgets>=7.3.0->qiskit[visualization]) (0.7.1)\n",
            "Requirement already satisfied: bleach in /usr/local/lib/python3.7/dist-packages (from nbconvert->notebook>=4.4.1->widgetsnbextension~=3.5.0->ipywidgets>=7.3.0->qiskit[visualization]) (3.3.0)\n",
            "Requirement already satisfied: mistune<2,>=0.8.1 in /usr/local/lib/python3.7/dist-packages (from nbconvert->notebook>=4.4.1->widgetsnbextension~=3.5.0->ipywidgets>=7.3.0->qiskit[visualization]) (0.8.4)\n",
            "Requirement already satisfied: packaging in /usr/local/lib/python3.7/dist-packages (from bleach->nbconvert->notebook>=4.4.1->widgetsnbextension~=3.5.0->ipywidgets>=7.3.0->qiskit[visualization]) (20.9)\n",
            "Requirement already satisfied: webencodings in /usr/local/lib/python3.7/dist-packages (from bleach->nbconvert->notebook>=4.4.1->widgetsnbextension~=3.5.0->ipywidgets>=7.3.0->qiskit[visualization]) (0.5.1)\n",
            "Building wheels for collected packages: qiskit, pylatexenc, python-constraint, docplex, yfinance, dlx\n",
            "  Building wheel for qiskit (setup.py) ... \u001b[?25l\u001b[?25hdone\n",
            "  Created wheel for qiskit: filename=qiskit-0.26.2-cp37-none-any.whl size=10506 sha256=aadc4a23b64fe508f59360dcfed295deb7bc8d9d191530c858285414b5688245\n",
            "  Stored in directory: /root/.cache/pip/wheels/89/89/34/524839952d5a58a7be9789e580bfc1ca883bf6579152444568\n",
            "  Building wheel for pylatexenc (setup.py) ... \u001b[?25l\u001b[?25hdone\n",
            "  Created wheel for pylatexenc: filename=pylatexenc-2.10-cp37-none-any.whl size=136834 sha256=efc9eabd0d81209475ebd6ca3c0528b611820429826918e03c7058a2e9a4ca95\n",
            "  Stored in directory: /root/.cache/pip/wheels/3d/0a/64/533613e8165f1fc42f8f727cd12bb240940e2bd3bae7829021\n",
            "  Building wheel for python-constraint (setup.py) ... \u001b[?25l\u001b[?25hdone\n",
            "  Created wheel for python-constraint: filename=python_constraint-1.4.0-py2.py3-none-any.whl size=24079 sha256=a06a7f585c09623e232c8bcf0246552f9b2696315ae545ffe00e558421fc3e18\n",
            "  Stored in directory: /root/.cache/pip/wheels/34/31/15/7b070b25d0a549d20ce2e9fe6d727471c2c61ef904720fd40c\n",
            "  Building wheel for docplex (setup.py) ... \u001b[?25l\u001b[?25hdone\n",
            "  Created wheel for docplex: filename=docplex-2.20.204-cp37-none-any.whl size=675396 sha256=353b414c219a757ce664519fc1d9712c914900fd43ac7fc91146e74370fb80ed\n",
            "  Stored in directory: /root/.cache/pip/wheels/ae/2c/e2/a099ebb6fda8adeba9c5fc2e25659d195ad2f5c6cc5fb75fd4\n",
            "  Building wheel for yfinance (setup.py) ... \u001b[?25l\u001b[?25hdone\n",
            "  Created wheel for yfinance: filename=yfinance-0.1.55-py2.py3-none-any.whl size=22627 sha256=04f7a9f5e3d448b6f9861812f892462430437c7f7efb71392268928513dea88c\n",
            "  Stored in directory: /root/.cache/pip/wheels/04/98/cc/2702a4242d60bdc14f48b4557c427ded1fe92aedf257d4565c\n",
            "  Building wheel for dlx (setup.py) ... \u001b[?25l\u001b[?25hdone\n",
            "  Created wheel for dlx: filename=dlx-1.0.4-cp37-none-any.whl size=5720 sha256=7a7a500555839ee7d6dedb4d937471b32410e29e43387d9dc074d15bf5e01658\n",
            "  Stored in directory: /root/.cache/pip/wheels/bb/ba/15/fdd0deb104df3254912998150ba9245668db06b00af5912d1a\n",
            "Successfully built qiskit pylatexenc python-constraint docplex yfinance dlx\n",
            "\u001b[31mERROR: qiskit-aqua 0.9.1 has requirement retworkx<=0.8.0,>=0.7.0, but you'll have retworkx 0.9.0 which is incompatible.\u001b[0m\n",
            "Installing collected packages: retworkx, fastjsonschema, python-constraint, ply, qiskit-terra, pybind11, qiskit-aer, websockets, cryptography, ntlm-auth, requests-ntlm, qiskit-ibmq-provider, qiskit-ignis, docplex, inflection, quandl, lxml, yfinance, dlx, qiskit-aqua, pylatexenc, qiskit\n",
            "  Found existing installation: lxml 4.2.6\n",
            "    Uninstalling lxml-4.2.6:\n",
            "      Successfully uninstalled lxml-4.2.6\n",
            "Successfully installed cryptography-3.4.7 dlx-1.0.4 docplex-2.20.204 fastjsonschema-2.15.1 inflection-0.5.1 lxml-4.6.3 ntlm-auth-1.5.0 ply-3.11 pybind11-2.6.2 pylatexenc-2.10 python-constraint-1.4.0 qiskit-0.26.2 qiskit-aer-0.8.2 qiskit-aqua-0.9.1 qiskit-ibmq-provider-0.13.1 qiskit-ignis-0.6.0 qiskit-terra-0.17.4 quandl-3.6.0 requests-ntlm-1.1.0 retworkx-0.9.0 websockets-9.1 yfinance-0.1.55\n",
            "Collecting pyscf\n",
            "\u001b[?25l  Downloading https://files.pythonhosted.org/packages/ef/d6/af4ce5035977cb011e4dbe9979bf254129a36d48cb569b86e57b5a72c5b1/pyscf-1.7.6.post1-cp37-cp37m-manylinux1_x86_64.whl (29.7MB)\n",
            "\u001b[K     |████████████████████████████████| 29.7MB 130kB/s \n",
            "\u001b[?25hRequirement already satisfied: scipy!=1.5.0,!=1.5.1 in /usr/local/lib/python3.7/dist-packages (from pyscf) (1.4.1)\n",
            "Requirement already satisfied: numpy!=1.16,!=1.17,>1.8 in /usr/local/lib/python3.7/dist-packages (from pyscf) (1.19.5)\n",
            "Requirement already satisfied: h5py>2.2 in /usr/local/lib/python3.7/dist-packages (from pyscf) (3.1.0)\n",
            "Requirement already satisfied: cached-property; python_version < \"3.8\" in /usr/local/lib/python3.7/dist-packages (from h5py>2.2->pyscf) (1.5.2)\n",
            "Installing collected packages: pyscf\n",
            "Successfully installed pyscf-1.7.6.post1\n"
          ],
          "name": "stdout"
        }
      ]
    },
    {
      "cell_type": "code",
      "metadata": {
        "colab": {
          "base_uri": "https://localhost:8080/"
        },
        "id": "Tqe00C-LOUTl",
        "outputId": "d307fd8d-aca2-417a-abbc-fa9c4741f997"
      },
      "source": [
        "import qiskit\n",
        "import numpy as np\n",
        "\n",
        "from qiskit import Aer, QuantumCircuit, ClassicalRegister, QuantumRegister, IBMQ\n",
        "from qiskit.circuit import QuantumCircuit, ParameterVector\n",
        "from qiskit.algorithms.optimizers import COBYLA\n",
        "from qiskit.providers.ibmq import least_busy\n",
        "from qiskit.aqua.algorithms import NumPyMinimumEigensolver, VQE\n",
        "from qiskit.aqua import QuantumInstance\n",
        "from qiskit.chemistry.components.initial_states import HartreeFock\n",
        "from qiskit.chemistry.components.variational_forms import UCCSD\n",
        "from qiskit.chemistry.drivers import PySCFDriver\n",
        "from qiskit.chemistry.core import Hamiltonian, QubitMappingType\n",
        "\n",
        "import matplotlib.pyplot as plt"
      ],
      "execution_count": 2,
      "outputs": [
        {
          "output_type": "stream",
          "text": [
            "/usr/local/lib/python3.7/dist-packages/qiskit/chemistry/__init__.py:170: DeprecationWarning: The package qiskit.chemistry is deprecated. It was moved/refactored to qiskit_nature (pip install qiskit-nature). For more information see <https://github.com/Qiskit/qiskit-aqua/blob/master/README.md#migration-guide>\n",
            "  warn_package('chemistry', 'qiskit_nature', 'qiskit-nature')\n"
          ],
          "name": "stderr"
        }
      ]
    },
    {
      "cell_type": "code",
      "metadata": {
        "colab": {
          "base_uri": "https://localhost:8080/"
        },
        "id": "d2f39vDPy0R1",
        "outputId": "e11add7e-5c6f-4434-f67d-18796f5023c2"
      },
      "source": [
        "IBMQ.enable_account(\"8ee0cdbd442f6bb654b16a42a75546db448bed4a29f8874f7a3c96e4ba6381db750772327bbc111999756c30f142b957e3f6de4fb20c7622cf177b54c1df38c8\")"
      ],
      "execution_count": 3,
      "outputs": [
        {
          "output_type": "execute_result",
          "data": {
            "text/plain": [
              "<AccountProvider for IBMQ(hub='ibm-q', group='open', project='main')>"
            ]
          },
          "metadata": {
            "tags": []
          },
          "execution_count": 3
        }
      ]
    },
    {
      "cell_type": "code",
      "metadata": {
        "id": "S5Gur7oXeu8C"
      },
      "source": [
        "provider = IBMQ.get_provider(hub='ibm-q-minho')"
      ],
      "execution_count": 4,
      "outputs": []
    },
    {
      "cell_type": "markdown",
      "metadata": {
        "id": "LyMNSbZBN88L"
      },
      "source": [
        "## Molecule Definitions"
      ]
    },
    {
      "cell_type": "code",
      "metadata": {
        "id": "cIo3dw0_OA2L"
      },
      "source": [
        "r = 0.37 # radius in angstrom\n",
        "h2 = 'H 0.0 0.0 0.0; H 0.0 0.0 {}'\n",
        "charge = 0\n",
        "spin = 0\n",
        "driver = PySCFDriver(h2.format(2*r), \n",
        "                     charge = charge,\n",
        "                     spin = spin,\n",
        "                     basis='sto3g')\n",
        "h2 = driver.run()\n",
        "\n",
        "r = 0.5 # radius in angstrom\n",
        "helonium = 'He 0.0 0.0 0.0; H 0.0 0.0 {}'\n",
        "charge = +1\n",
        "spin = 0\n",
        "driver = PySCFDriver(helonium.format(2*r), \n",
        "                     charge = charge,\n",
        "                     spin = spin,\n",
        "                     basis='sto3g')\n",
        "helonium = driver.run()"
      ],
      "execution_count": 5,
      "outputs": []
    },
    {
      "cell_type": "markdown",
      "metadata": {
        "id": "2Zk5D_V2vOmj"
      },
      "source": [
        "## Choosing the Molecule"
      ]
    },
    {
      "cell_type": "code",
      "metadata": {
        "id": "m_2VDQuvu4on"
      },
      "source": [
        "molecule = h2"
      ],
      "execution_count": 6,
      "outputs": []
    },
    {
      "cell_type": "code",
      "metadata": {
        "colab": {
          "base_uri": "https://localhost:8080/"
        },
        "id": "aTQEI5HWyAOW",
        "outputId": "3c33a344-4391-450f-e122-8d98acf3b5c4"
      },
      "source": [
        "if molecule == h2:\n",
        "  name = \"H2\"\n",
        "if molecule == helonium:\n",
        "  name = \"HeH+\"\n",
        "  \n",
        "# Define the fermion to qubit mapping and forbit qubit reduction\n",
        "observable =  Hamiltonian(qubit_mapping=QubitMappingType.JORDAN_WIGNER,\n",
        "                          two_qubit_reduction=False)\n",
        "\n",
        "# Get the qubit operator representing the hamiltonian, as well as the \n",
        "#auxiliary operators for the total particle number, S^2 spin, etc.\n",
        "# These allow checking their expectation values in the state\n",
        "qubitOp, auxOps = observable.run(molecule)"
      ],
      "execution_count": 7,
      "outputs": [
        {
          "output_type": "stream",
          "text": [
            "/usr/local/lib/python3.7/dist-packages/ipykernel_launcher.py:8: DeprecationWarning: The Hamiltonian class is deprecated as of Qiskit Aqua 0.8.0 and will be removed no earlier than 3 months after the release date. Instead, the FermionicTransformation can be used.\n",
            "  \n",
            "/usr/local/lib/python3.7/dist-packages/qiskit/chemistry/core/hamiltonian.py:88: DeprecationWarning: The ChemistryOperator is deprecated as of Qiskit Aqua 0.8.0 and will be removed no earlier than 3 months after the release date. Instead, the FermionicTransformation can be used to transform QMolecules and construct ground state result objects.\n",
            "  super().__init__()\n",
            "/usr/local/lib/python3.7/dist-packages/qiskit/chemistry/fermionic_operator.py:386: DeprecationWarning: The package qiskit.aqua.operators is deprecated. It was moved/refactored to qiskit.opflow (pip install qiskit-terra). For more information see <https://github.com/Qiskit/qiskit-aqua/blob/master/README.md#migration-guide>\n",
            "  pauli_list = WeightedPauliOperator(paulis=[])\n",
            "/usr/local/lib/python3.7/dist-packages/qiskit/chemistry/fermionic_operator.py:394: DeprecationWarning: The variable qiskit.aqua.aqua_globals is deprecated. It was moved/refactored to qiskit.utils.algorithm_globals (pip install qiskit-terra). For more information see <https://github.com/Qiskit/qiskit-aqua/blob/master/README.md#migration-guide>\n",
            "  task_args=(threshold,), num_processes=aqua_globals.num_processes)\n"
          ],
          "name": "stderr"
        }
      ]
    },
    {
      "cell_type": "markdown",
      "metadata": {
        "id": "kwx9PMqgWN_n"
      },
      "source": [
        "## UCCSD VQE"
      ]
    },
    {
      "cell_type": "markdown",
      "metadata": {
        "id": "yJs9V64bvGs1"
      },
      "source": [
        "### Ansatz"
      ]
    },
    {
      "cell_type": "code",
      "metadata": {
        "colab": {
          "base_uri": "https://localhost:8080/"
        },
        "id": "6MtIxneUvB3l",
        "outputId": "0ef98dba-c28f-47d0-a897-e8793609823f"
      },
      "source": [
        "# Set the Hartree Fock state as reference\n",
        "initial_state = HartreeFock(\n",
        "    observable.molecule_info['num_orbitals'],\n",
        "    observable.molecule_info['num_particles'],\n",
        "    qubit_mapping='jordan_wigner',\n",
        "    two_qubit_reduction = False\n",
        ") \n",
        "\n",
        "# Create the UCCSD ansatz with HF as initial state\n",
        "uccsd = UCCSD(observable.molecule_info['num_orbitals'], \n",
        "              observable.molecule_info['num_particles'], \n",
        "              reps=1,\n",
        "              num_time_slices=1,\n",
        "              qubit_mapping='jordan_wigner',\n",
        "              two_qubit_reduction=False,\n",
        "              initial_state = initial_state)\n",
        "\n",
        "# Create parameter vector\n",
        "paramsNumber = uccsd.num_parameters\n",
        "parameters = ParameterVector(\"Params\",paramsNumber)"
      ],
      "execution_count": 8,
      "outputs": [
        {
          "output_type": "stream",
          "text": [
            "/usr/local/lib/python3.7/dist-packages/qiskit/chemistry/components/initial_states/hartree_fock.py:61: DeprecationWarning: The HartreeFock class is deprecated as of Aqua 0.9 and will be removed no earlier than 3 months after the release date. Instead, all algorithms and circuits accept a plain QuantumCircuit. \n",
            "  super().__init__()\n",
            "/usr/local/lib/python3.7/dist-packages/qiskit/aqua/components/variational_forms/variational_form.py:48: DeprecationWarning: The package qiskit.aqua.components.variational_forms is deprecated. For more information see <https://github.com/Qiskit/qiskit-aqua/blob/master/README.md#migration-guide>\n",
            "  warn_package('aqua.components.variational_forms')\n"
          ],
          "name": "stderr"
        }
      ]
    },
    {
      "cell_type": "markdown",
      "metadata": {
        "id": "r61xnReBV8BD"
      },
      "source": [
        "### Backend"
      ]
    },
    {
      "cell_type": "code",
      "metadata": {
        "id": "k8DQsUvxelG0"
      },
      "source": [
        "backend = Aer.get_backend('statevector_simulator')\n",
        "backend = provider.get_backend('ibmq_manhattan')\n",
        "backend = provider.get_backend('ibmq_casablanca')\n",
        "backend = Aer.get_backend('qasm_simulator')"
      ],
      "execution_count": 12,
      "outputs": []
    },
    {
      "cell_type": "markdown",
      "metadata": {
        "id": "xLxG880SWAGu"
      },
      "source": [
        "### Callback"
      ]
    },
    {
      "cell_type": "code",
      "metadata": {
        "id": "kuWlisM6V4N1"
      },
      "source": [
        "def callback(nfev, parameters, energy, stddev):\n",
        "\n",
        "    '''\n",
        "    Function to keep intermediary data from the optimization done by running\n",
        "    the instance of the VQE class. \n",
        "    Arguments are supplied at the end of each optimization run:\n",
        "    nfev, parameters, energy, stddev\n",
        "    '''\n",
        "\n",
        "    evolution['nfev'].append(nfev)\n",
        "    evolution['parameters'].append(parameters.copy())\n",
        "    evolution['energy'].append(energy)\n",
        "    evolution['stddev'].append(stddev)\n",
        "\n",
        "    print(energy)"
      ],
      "execution_count": 13,
      "outputs": []
    },
    {
      "cell_type": "markdown",
      "metadata": {
        "id": "vT-lXHvKWZPu"
      },
      "source": [
        "### Running the Algorithm"
      ]
    },
    {
      "cell_type": "code",
      "metadata": {
        "colab": {
          "base_uri": "https://localhost:8080/"
        },
        "id": "4jUFHttnS8Jq",
        "outputId": "ce50707a-1d5c-404f-b413-c1a1030ceddf"
      },
      "source": [
        "# Initialize dictionary that will be filled with intermediate\n",
        "#data by the callback function\n",
        "\n",
        "evolution = {\n",
        "    'nfev': [],\n",
        "    'parameters': [],\n",
        "    'energy': [],\n",
        "    'stddev': []\n",
        "}\n",
        "\n",
        "shots = 2**10\n",
        "qinstance = QuantumInstance(backend, shots = shots)\n",
        "\n",
        "vqe = VQE(qubitOp,\n",
        "          var_form = uccsd, \n",
        "          optimizer = COBYLA(), \n",
        "          quantum_instance = qinstance,\n",
        "          callback = callback, \n",
        "          aux_operators=auxOps)\n",
        "\n",
        "# Run the algorithm on the chosen backend\n",
        "result = vqe.run(qinstance)\n",
        "\n",
        "# Process the result\n",
        "result = observable.process_algorithm_result(result)\n",
        "\n",
        "# Get the exact result using Numpy\n",
        "solver = NumPyMinimumEigensolver(qubitOp,aux_operators=auxOps)\n",
        "exactResult =  solver.run()\n",
        "\n",
        "# Process the result\n",
        "exactResult = observable.process_algorithm_result(exactResult)\n",
        "exactEnergy = exactResult.energy"
      ],
      "execution_count": 21,
      "outputs": [
        {
          "output_type": "stream",
          "text": [
            "/usr/local/lib/python3.7/dist-packages/qiskit/chemistry/components/variational_forms/uccsd.py:429: DeprecationWarning: Back-references to from Bit instances to their containing Registers have been deprecated. Instead, inspect Registers to find their contained Bits.\n",
            "  qbits[i] = circuit.qubits[qbits[i].index]\n",
            "/usr/local/lib/python3.7/dist-packages/qiskit/chemistry/components/variational_forms/uccsd.py:429: DeprecationWarning: Back-references to from Bit instances to their containing Registers have been deprecated. Instead, inspect Registers to find their contained Bits.\n",
            "  qbits[i] = circuit.qubits[qbits[i].index]\n",
            "/usr/local/lib/python3.7/dist-packages/qiskit/chemistry/components/variational_forms/uccsd.py:429: DeprecationWarning: Back-references to from Bit instances to their containing Registers have been deprecated. Instead, inspect Registers to find their contained Bits.\n",
            "  qbits[i] = circuit.qubits[qbits[i].index]\n",
            "/usr/local/lib/python3.7/dist-packages/qiskit/chemistry/components/variational_forms/uccsd.py:429: DeprecationWarning: Back-references to from Bit instances to their containing Registers have been deprecated. Instead, inspect Registers to find their contained Bits.\n",
            "  qbits[i] = circuit.qubits[qbits[i].index]\n",
            "/usr/local/lib/python3.7/dist-packages/qiskit/chemistry/components/variational_forms/uccsd.py:429: DeprecationWarning: Back-references to from Bit instances to their containing Registers have been deprecated. Instead, inspect Registers to find their contained Bits.\n",
            "  qbits[i] = circuit.qubits[qbits[i].index]\n",
            "/usr/local/lib/python3.7/dist-packages/qiskit/chemistry/components/variational_forms/uccsd.py:429: DeprecationWarning: Back-references to from Bit instances to their containing Registers have been deprecated. Instead, inspect Registers to find their contained Bits.\n",
            "  qbits[i] = circuit.qubits[qbits[i].index]\n",
            "/usr/local/lib/python3.7/dist-packages/qiskit/chemistry/components/variational_forms/uccsd.py:429: DeprecationWarning: Back-references to from Bit instances to their containing Registers have been deprecated. Instead, inspect Registers to find their contained Bits.\n",
            "  qbits[i] = circuit.qubits[qbits[i].index]\n",
            "/usr/local/lib/python3.7/dist-packages/qiskit/chemistry/components/variational_forms/uccsd.py:429: DeprecationWarning: Back-references to from Bit instances to their containing Registers have been deprecated. Instead, inspect Registers to find their contained Bits.\n",
            "  qbits[i] = circuit.qubits[qbits[i].index]\n",
            "/usr/local/lib/python3.7/dist-packages/qiskit/chemistry/components/variational_forms/uccsd.py:429: DeprecationWarning: Back-references to from Bit instances to their containing Registers have been deprecated. Instead, inspect Registers to find their contained Bits.\n",
            "  qbits[i] = circuit.qubits[qbits[i].index]\n",
            "/usr/local/lib/python3.7/dist-packages/qiskit/chemistry/components/variational_forms/uccsd.py:429: DeprecationWarning: Back-references to from Bit instances to their containing Registers have been deprecated. Instead, inspect Registers to find their contained Bits.\n",
            "  qbits[i] = circuit.qubits[qbits[i].index]\n",
            "/usr/local/lib/python3.7/dist-packages/qiskit/chemistry/components/variational_forms/uccsd.py:429: DeprecationWarning: Back-references to from Bit instances to their containing Registers have been deprecated. Instead, inspect Registers to find their contained Bits.\n",
            "  qbits[i] = circuit.qubits[qbits[i].index]\n",
            "/usr/local/lib/python3.7/dist-packages/qiskit/chemistry/components/variational_forms/uccsd.py:429: DeprecationWarning: Back-references to from Bit instances to their containing Registers have been deprecated. Instead, inspect Registers to find their contained Bits.\n",
            "  qbits[i] = circuit.qubits[qbits[i].index]\n"
          ],
          "name": "stderr"
        },
        {
          "output_type": "stream",
          "text": [
            "-1.8277934896158374\n",
            "-1.29048783015409\n",
            "-1.285939660971055\n",
            "-0.5363451772548798\n",
            "-1.2458859742014243\n",
            "-1.6617830636984792\n",
            "-1.8060999240935574\n",
            "-1.8425961497970478\n",
            "-1.6966791212374805\n",
            "-1.8440773439110139\n",
            "-1.8301833388006303\n",
            "-1.8156218872043746\n",
            "-1.8403184255679275\n",
            "-1.8410996198667646\n",
            "-1.847537076479041\n",
            "-1.839345933900088\n",
            "-1.8454059967548913\n",
            "-1.8213576837860204\n",
            "-1.8390385059399577\n",
            "-1.8271706318577103\n",
            "-1.8396662039708327\n",
            "-1.840839311698293\n",
            "-1.841627320401912\n",
            "-1.843477109156401\n",
            "-1.8613425999185185\n",
            "-1.8401766307687468\n",
            "-1.8318009037310752\n",
            "-1.834670489589022\n",
            "-1.849560639085054\n",
            "-1.8366495008254995\n",
            "-1.8188458351701502\n",
            "-1.8292592090607793\n",
            "-1.848552357806418\n",
            "-1.8440188939384927\n",
            "-1.8200310797905979\n"
          ],
          "name": "stdout"
        },
        {
          "output_type": "stream",
          "text": [
            "/usr/local/lib/python3.7/dist-packages/qiskit/chemistry/components/variational_forms/uccsd.py:429: DeprecationWarning: Back-references to from Bit instances to their containing Registers have been deprecated. Instead, inspect Registers to find their contained Bits.\n",
            "  qbits[i] = circuit.qubits[qbits[i].index]\n",
            "/usr/local/lib/python3.7/dist-packages/qiskit/chemistry/components/variational_forms/uccsd.py:429: DeprecationWarning: Back-references to from Bit instances to their containing Registers have been deprecated. Instead, inspect Registers to find their contained Bits.\n",
            "  qbits[i] = circuit.qubits[qbits[i].index]\n",
            "/usr/local/lib/python3.7/dist-packages/qiskit/chemistry/components/variational_forms/uccsd.py:429: DeprecationWarning: Back-references to from Bit instances to their containing Registers have been deprecated. Instead, inspect Registers to find their contained Bits.\n",
            "  qbits[i] = circuit.qubits[qbits[i].index]\n",
            "/usr/local/lib/python3.7/dist-packages/qiskit/chemistry/components/variational_forms/uccsd.py:429: DeprecationWarning: Back-references to from Bit instances to their containing Registers have been deprecated. Instead, inspect Registers to find their contained Bits.\n",
            "  qbits[i] = circuit.qubits[qbits[i].index]\n",
            "/usr/local/lib/python3.7/dist-packages/qiskit/chemistry/components/variational_forms/uccsd.py:429: DeprecationWarning: Back-references to from Bit instances to their containing Registers have been deprecated. Instead, inspect Registers to find their contained Bits.\n",
            "  qbits[i] = circuit.qubits[qbits[i].index]\n",
            "/usr/local/lib/python3.7/dist-packages/qiskit/chemistry/components/variational_forms/uccsd.py:429: DeprecationWarning: Back-references to from Bit instances to their containing Registers have been deprecated. Instead, inspect Registers to find their contained Bits.\n",
            "  qbits[i] = circuit.qubits[qbits[i].index]\n",
            "/usr/local/lib/python3.7/dist-packages/qiskit/chemistry/components/variational_forms/uccsd.py:429: DeprecationWarning: Back-references to from Bit instances to their containing Registers have been deprecated. Instead, inspect Registers to find their contained Bits.\n",
            "  qbits[i] = circuit.qubits[qbits[i].index]\n",
            "/usr/local/lib/python3.7/dist-packages/qiskit/chemistry/components/variational_forms/uccsd.py:429: DeprecationWarning: Back-references to from Bit instances to their containing Registers have been deprecated. Instead, inspect Registers to find their contained Bits.\n",
            "  qbits[i] = circuit.qubits[qbits[i].index]\n",
            "/usr/local/lib/python3.7/dist-packages/qiskit/chemistry/components/variational_forms/uccsd.py:429: DeprecationWarning: Back-references to from Bit instances to their containing Registers have been deprecated. Instead, inspect Registers to find their contained Bits.\n",
            "  qbits[i] = circuit.qubits[qbits[i].index]\n",
            "/usr/local/lib/python3.7/dist-packages/qiskit/chemistry/components/variational_forms/uccsd.py:429: DeprecationWarning: Back-references to from Bit instances to their containing Registers have been deprecated. Instead, inspect Registers to find their contained Bits.\n",
            "  qbits[i] = circuit.qubits[qbits[i].index]\n",
            "/usr/local/lib/python3.7/dist-packages/qiskit/chemistry/components/variational_forms/uccsd.py:429: DeprecationWarning: Back-references to from Bit instances to their containing Registers have been deprecated. Instead, inspect Registers to find their contained Bits.\n",
            "  qbits[i] = circuit.qubits[qbits[i].index]\n",
            "/usr/local/lib/python3.7/dist-packages/qiskit/chemistry/components/variational_forms/uccsd.py:429: DeprecationWarning: Back-references to from Bit instances to their containing Registers have been deprecated. Instead, inspect Registers to find their contained Bits.\n",
            "  qbits[i] = circuit.qubits[qbits[i].index]\n",
            "/usr/local/lib/python3.7/dist-packages/qiskit/chemistry/components/variational_forms/uccsd.py:429: DeprecationWarning: Back-references to from Bit instances to their containing Registers have been deprecated. Instead, inspect Registers to find their contained Bits.\n",
            "  qbits[i] = circuit.qubits[qbits[i].index]\n",
            "/usr/local/lib/python3.7/dist-packages/qiskit/chemistry/components/variational_forms/uccsd.py:429: DeprecationWarning: Back-references to from Bit instances to their containing Registers have been deprecated. Instead, inspect Registers to find their contained Bits.\n",
            "  qbits[i] = circuit.qubits[qbits[i].index]\n",
            "/usr/local/lib/python3.7/dist-packages/qiskit/chemistry/components/variational_forms/uccsd.py:429: DeprecationWarning: Back-references to from Bit instances to their containing Registers have been deprecated. Instead, inspect Registers to find their contained Bits.\n",
            "  qbits[i] = circuit.qubits[qbits[i].index]\n",
            "/usr/local/lib/python3.7/dist-packages/qiskit/chemistry/components/variational_forms/uccsd.py:429: DeprecationWarning: Back-references to from Bit instances to their containing Registers have been deprecated. Instead, inspect Registers to find their contained Bits.\n",
            "  qbits[i] = circuit.qubits[qbits[i].index]\n",
            "/usr/local/lib/python3.7/dist-packages/qiskit/chemistry/components/variational_forms/uccsd.py:429: DeprecationWarning: Back-references to from Bit instances to their containing Registers have been deprecated. Instead, inspect Registers to find their contained Bits.\n",
            "  qbits[i] = circuit.qubits[qbits[i].index]\n",
            "/usr/local/lib/python3.7/dist-packages/qiskit/chemistry/components/variational_forms/uccsd.py:429: DeprecationWarning: Back-references to from Bit instances to their containing Registers have been deprecated. Instead, inspect Registers to find their contained Bits.\n",
            "  qbits[i] = circuit.qubits[qbits[i].index]\n",
            "/usr/local/lib/python3.7/dist-packages/qiskit/chemistry/components/variational_forms/uccsd.py:429: DeprecationWarning: Back-references to from Bit instances to their containing Registers have been deprecated. Instead, inspect Registers to find their contained Bits.\n",
            "  qbits[i] = circuit.qubits[qbits[i].index]\n",
            "/usr/local/lib/python3.7/dist-packages/qiskit/chemistry/components/variational_forms/uccsd.py:429: DeprecationWarning: Back-references to from Bit instances to their containing Registers have been deprecated. Instead, inspect Registers to find their contained Bits.\n",
            "  qbits[i] = circuit.qubits[qbits[i].index]\n",
            "/usr/local/lib/python3.7/dist-packages/qiskit/chemistry/components/variational_forms/uccsd.py:429: DeprecationWarning: Back-references to from Bit instances to their containing Registers have been deprecated. Instead, inspect Registers to find their contained Bits.\n",
            "  qbits[i] = circuit.qubits[qbits[i].index]\n",
            "/usr/local/lib/python3.7/dist-packages/qiskit/chemistry/components/variational_forms/uccsd.py:429: DeprecationWarning: Back-references to from Bit instances to their containing Registers have been deprecated. Instead, inspect Registers to find their contained Bits.\n",
            "  qbits[i] = circuit.qubits[qbits[i].index]\n",
            "/usr/local/lib/python3.7/dist-packages/qiskit/chemistry/components/variational_forms/uccsd.py:429: DeprecationWarning: Back-references to from Bit instances to their containing Registers have been deprecated. Instead, inspect Registers to find their contained Bits.\n",
            "  qbits[i] = circuit.qubits[qbits[i].index]\n",
            "/usr/local/lib/python3.7/dist-packages/qiskit/chemistry/components/variational_forms/uccsd.py:429: DeprecationWarning: Back-references to from Bit instances to their containing Registers have been deprecated. Instead, inspect Registers to find their contained Bits.\n",
            "  qbits[i] = circuit.qubits[qbits[i].index]\n",
            "/usr/local/lib/python3.7/dist-packages/qiskit/chemistry/core/chemistry_operator.py:170: DeprecationWarning: The qiskit.chemistry.chemistry_operator.MolecularChemistryResult object is deprecated as of 0.8.0 and will be removed no sooner than 3 months after the release. You should use qiskit.chemistry.algorithms.ground_state_solvers.FermionicGroundStateResult instead.\n",
            "  super().__init__(a_dict)\n",
            "/usr/local/lib/python3.7/dist-packages/qiskit/chemistry/core/hamiltonian.py:380: DeprecationWarning: The qiskit.chemistry.chemistry_operator.MolecularGroundStateResult object is deprecated as of 0.8.0 and will be removed no sooner than 3 months after the release. You should use qiskit.chemistry.algorithms.ground_state_solvers.FermionicGroundStateResult instead.\n",
            "  mgsr = MolecularGroundStateResult()\n",
            "/usr/local/lib/python3.7/dist-packages/qiskit/chemistry/core/chemistry_operator.py:170: DeprecationWarning: The qiskit.chemistry.chemistry_operator.MolecularChemistryResult object is deprecated as of 0.8.0 and will be removed no sooner than 3 months after the release. You should use qiskit.chemistry.algorithms.ground_state_solvers.FermionicGroundStateResult instead.\n",
            "  super().__init__(a_dict)\n",
            "/usr/local/lib/python3.7/dist-packages/qiskit/chemistry/core/hamiltonian.py:380: DeprecationWarning: The qiskit.chemistry.chemistry_operator.MolecularGroundStateResult object is deprecated as of 0.8.0 and will be removed no sooner than 3 months after the release. You should use qiskit.chemistry.algorithms.ground_state_solvers.FermionicGroundStateResult instead.\n",
            "  mgsr = MolecularGroundStateResult()\n"
          ],
          "name": "stderr"
        }
      ]
    },
    {
      "cell_type": "markdown",
      "metadata": {
        "id": "m9XzVaSkWC1b"
      },
      "source": [
        "## Numeric Results"
      ]
    },
    {
      "cell_type": "code",
      "metadata": {
        "id": "i5t6RuPFWp80",
        "colab": {
          "base_uri": "https://localhost:8080/"
        },
        "outputId": "e9c8c04d-f825-4ae6-eae9-36b82f4c1bd0"
      },
      "source": [
        "# Readable VQE result\n",
        "\n",
        "print(result)"
      ],
      "execution_count": 22,
      "outputs": [
        {
          "output_type": "stream",
          "text": [
            "=== GROUND STATE ENERGY ===\n",
            " \n",
            "* Electronic ground state energy (Hartree): -1.820031079791\n",
            "  - computed part:      -1.820031079791\n",
            "  - frozen energy part: 0.0\n",
            "  - particle hole part: 0.0\n",
            "~ Nuclear repulsion energy (Hartree): 0.715104339081\n",
            "> Total ground state energy (Hartree): -1.10492674071\n",
            "  Measured:: # Particles: 2.000 S: 0.017 S^2: 0.017 M: 0.00000\n",
            " \n",
            "=== DIPOLE MOMENT ===\n",
            " \n",
            "* Electronic dipole moment (a.u.): [0.0  0.0  1.34205505]\n",
            "  - computed part:      [0.0  0.0  1.34205505]\n",
            "  - frozen energy part: [0.0  0.0  0.0]\n",
            "  - particle hole part: [0.0  0.0  0.0]\n",
            "~ Nuclear dipole moment (a.u.): [0.0  0.0  1.39839733]\n",
            "> Dipole moment (a.u.): [0.0  0.0  0.05634228]  Total: 0.05634228\n",
            "               (debye): [0.0  0.0  0.14320777]  Total: 0.14320777\n"
          ],
          "name": "stdout"
        }
      ]
    },
    {
      "cell_type": "code",
      "metadata": {
        "id": "pmBhTQvDWrbO",
        "colab": {
          "base_uri": "https://localhost:8080/"
        },
        "outputId": "68b1c462-4cda-4cd1-e316-ccda0f8d88f4"
      },
      "source": [
        "# Exact result from diagonalization\n",
        "\n",
        "print(exactResult)"
      ],
      "execution_count": 23,
      "outputs": [
        {
          "output_type": "stream",
          "text": [
            "=== GROUND STATE ENERGY ===\n",
            " \n",
            "* Electronic ground state energy (Hartree): -1.85238817357\n",
            "  - computed part:      -1.85238817357\n",
            "  - frozen energy part: 0.0\n",
            "  - particle hole part: 0.0\n",
            "~ Nuclear repulsion energy (Hartree): 0.715104339081\n",
            "> Total ground state energy (Hartree): -1.137283834489\n",
            "  Measured:: # Particles: 2.000 S: 0.000 S^2: 0.000 M: 0.00000\n",
            " \n",
            "=== DIPOLE MOMENT ===\n",
            " \n",
            "* Electronic dipole moment (a.u.): [0.0  0.0  1.39839733]\n",
            "  - computed part:      [0.0  0.0  1.39839733]\n",
            "  - frozen energy part: [0.0  0.0  0.0]\n",
            "  - particle hole part: [0.0  0.0  0.0]\n",
            "~ Nuclear dipole moment (a.u.): [0.0  0.0  1.39839733]\n",
            "> Dipole moment (a.u.): [0.0  0.0  0.0]  Total: 0.\n",
            "               (debye): [0.0  0.0  -0.00000001]  Total: 0.00000001\n"
          ],
          "name": "stdout"
        }
      ]
    },
    {
      "cell_type": "code",
      "metadata": {
        "id": "TEt98AT4Vk1J",
        "colab": {
          "base_uri": "https://localhost:8080/"
        },
        "outputId": "4dcd2dad-db7e-4cde-e234-8fff2f19b985"
      },
      "source": [
        "print(\"Hartree Fock energy: \",result.hartree_fock_energy)\n",
        "print(\"VQE Final Energy: \", result.energy)\n",
        "print(\"Exact Energy: \",exactEnergy)\n",
        "\n",
        "# Energy = electronic ground state energy (negative) + \n",
        "#nuclear repulsion energy (positive)\n",
        "print(\"\\nElectronic Ground State Energy: \", result.electronic_energy)\n",
        "nuclearRepEnergy = result.nuclear_repulsion_energy\n",
        "print(\"Nuclear Repulsion Energy: \", nuclearRepEnergy)"
      ],
      "execution_count": 24,
      "outputs": [
        {
          "output_type": "stream",
          "text": [
            "Hartree Fock energy:  -1.1167593073964248\n",
            "VQE Final Energy:  -1.1049267407095167\n",
            "Exact Energy:  -1.1372838344885017\n",
            "\n",
            "Electronic Ground State Energy:  -1.8200310797905979\n",
            "Nuclear Repulsion Energy:  0.7151043390810812\n"
          ],
          "name": "stdout"
        }
      ]
    },
    {
      "cell_type": "markdown",
      "metadata": {
        "id": "PHwvknY7XAmY"
      },
      "source": [
        "## Plot"
      ]
    },
    {
      "cell_type": "code",
      "metadata": {
        "id": "chYx80ziub5j"
      },
      "source": [
        "if backend.name() == \"statevector_simulator\":\n",
        "  backendName = \"Aer State Vector Simulator\"\n",
        "\n",
        "elif backend.name() == \"qasm_simulator\":\n",
        "  backendName = \"Aer QASM Simulator\"\n",
        "\n",
        "else:\n",
        "  backendName = backend.name()"
      ],
      "execution_count": 25,
      "outputs": []
    },
    {
      "cell_type": "code",
      "metadata": {
        "id": "O6wmfB1RUV77"
      },
      "source": [
        "# Copy list of electronic ground state energy\n",
        "energies = evolution[\"energy\"].copy()\n",
        "\n",
        "# Add nuclear repulsion energy for total energy\n",
        "for i in range(len(energies)):\n",
        "  energies[i] = energies[i] + nuclearRepEnergy"
      ],
      "execution_count": 26,
      "outputs": []
    },
    {
      "cell_type": "code",
      "metadata": {
        "id": "wZHPS-aZuZkK",
        "colab": {
          "base_uri": "https://localhost:8080/",
          "height": 528
        },
        "outputId": "5e80a857-e7fa-4002-ede0-22962c2b4934"
      },
      "source": [
        "fig, ax1 = plt.subplots(figsize=[8,8])\n",
        "\n",
        "nfev = evolution[\"nfev\"][-1]\n",
        "\n",
        "title = \"Evolution of the Optimization\\n{}, \".format(name)\n",
        "\n",
        "if backendName != \"Aer State Vector Simulator\":\n",
        "  title += \"{} shots, \".format(shots)\n",
        "title += \"{}\".format(backendName)\n",
        "\n",
        "ax1.set_title(title)\n",
        "\n",
        "color1 = 'b'\n",
        "ax1.plot(range(1,nfev+1), energies, '--o', color = color1)\n",
        "ax1.set_xlabel(\"VQE Iteration\")\n",
        "ax1.set_ylabel(\"Energy (au)\")\n",
        "\n",
        "plt.axhline(y = exactEnergy, color = 'cornflowerblue' , linestyle = '-')\n",
        "color2 = 'r'"
      ],
      "execution_count": 27,
      "outputs": [
        {
          "output_type": "display_data",
          "data": {
            "image/png": "[encoded data removed]",
            "text/plain": [
              "<Figure size 576x576 with 1 Axes>"
            ]
          },
          "metadata": {
            "tags": [],
            "needs_background": "light"
          }
        }
      ]
    }
  ]
}